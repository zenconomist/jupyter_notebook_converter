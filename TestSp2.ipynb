{
  "cells": [
    {
      "cell_type": "markdown",
      "metadata": {},
      "source": [
        " ## Test2 Stored Procedure"
      ]
    },
    {
      "cell_type": "code",
      "execution_count": null,
      "id": "f82ca1f9",
      "metadata": {
        "trusted": true
      },
      "outputs": [],
      "source": [
        "-- This is an example stored procedure that demonstrates\n",
        "-- the use of various custom annotations for converting\n",
        "-- to a Jupyter notebook.\n",
        "\n",
        "CREATE PROCEDURE Test2\n",
        "AS\n",
        "BEGIN\n"
      ]
    },
    {
      "cell_type": "markdown",
      "id": "fb533551",
      "metadata": {},
      "source": [
        " ### Step 1: Create a Common Table Expression (CTE)"
      ]
    },
    {
      "cell_type": "code",
      "execution_count": null,
      "id": "bbd19718",
      "metadata": {
        "trusted": true
      },
      "outputs": [],
      "source": [
        "    -- NewCell\n"
      ]
    },
    {
      "cell_type": "code",
      "execution_count": null,
      "id": "5ca56eaa",
      "metadata": {
        "trusted": true
      },
      "outputs": [],
      "source": [
        "    WITH cte_example AS (\n",
        "        SELECT\n"
      ]
    },
    {
      "cell_type": "code",
      "execution_count": null,
      "id": "3968e3a6",
      "metadata": {
        "trusted": true
      },
      "outputs": [],
      "source": [
        "            Column1,\n",
        "            Column2,\n",
        "            Column3\n",
        "        FROM\n",
        "            SomeTable\n",
        "        -- DemoWhere: Column1 = 'example'\n",
        "    )\n"
      ]
    },
    {
      "cell_type": "markdown",
      "id": "fc3c0e80",
      "metadata": {},
      "source": [
        " ### Step 2: Insert data into a temporary table"
      ]
    },
    {
      "cell_type": "code",
      "execution_count": null,
      "id": "34f91e37",
      "metadata": {
        "trusted": true
      },
      "outputs": [],
      "source": [
        "    -- NewCell\n"
      ]
    },
    {
      "cell_type": "code",
      "execution_count": null,
      "id": "fd363305",
      "metadata": {
        "trusted": true
      },
      "outputs": [],
      "source": [
        "    SELECT\n"
      ]
    },
    {
      "cell_type": "code",
      "execution_count": null,
      "id": "62148c3a",
      "metadata": {
        "trusted": true
      },
      "outputs": [],
      "source": [
        "        Column1,\n",
        "        Column2,\n",
        "        Column3\n",
        "    INTO\n",
        "        #TempTable\n",
        "    FROM\n",
        "        cte_example\n",
        "    -- DemoWhere: Column2 > 100\n",
        "\n"
      ]
    },
    {
      "cell_type": "markdown",
      "id": "1762a383",
      "metadata": {},
      "source": [
        " ### Step 3: Perform a final SELECT"
      ]
    },
    {
      "cell_type": "code",
      "execution_count": null,
      "id": "28774ae4",
      "metadata": {
        "trusted": true
      },
      "outputs": [],
      "source": [
        "    -- NewCell\n"
      ]
    },
    {
      "cell_type": "code",
      "execution_count": null,
      "id": "415fcec0",
      "metadata": {
        "trusted": true
      },
      "outputs": [],
      "source": [
        "    SELECT\n"
      ]
    },
    {
      "cell_type": "code",
      "execution_count": null,
      "id": "0b37981e",
      "metadata": {
        "trusted": true
      },
      "outputs": [],
      "source": [
        "        Column1,\n",
        "        Column2,\n",
        "        SUM(Column3) AS TotalColumn3\n",
        "    FROM\n",
        "        #TempTable\n",
        "    GROUP BY\n",
        "        Column1,\n",
        "        Column2\n",
        "    -- DemoWhere: TotalColumn3 > 1000\n",
        "END\n"
      ]
    }
  ],
  "metadata": {
    "kernelspec": {
      "display_name": "SQL",
      "language": "sql",
      "name": "mssql"
    },
    "language_info": {
      "codemirror_mode": "sql",
      "file_extension": ".sql",
      "mimetype": "text/x-sql",
      "name": "sql"
    }
  },
  "nbformat": 4,
  "nbformat_minor": 5
}
