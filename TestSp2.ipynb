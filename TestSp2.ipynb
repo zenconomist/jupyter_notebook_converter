{
  "cells": [
    {
      "cell_type": "markdown",
      "id": "49bd2bfe",
      "metadata": {},
      "source": [
        "## Test2 Stored Procedure\n",
        "-- This is an example stored procedure that demonstrates\n",
        "-- the use of various custom annotations for converting\n",
        "-- to a Jupyter notebook.\n",
        "\n",
        "CREATE PROCEDURE Test2\n",
        "AS\n",
        "BEGIN\n",
        "    ### Step 1: Create a Common Table Expression (CTE)\n",
        "    -- NewCell\n",
        "    WITH cte_example AS (\n",
        "        SELECT\n",
        "            Column1,\n",
        "            Column2,\n",
        "            Column3\n",
        "        FROM\n",
        "            SomeTable\n",
        "        -- DemoWhere: Column1 = 'example'\n",
        "    )\n",
        "    ### Step 2: Insert data into a temporary table\n",
        "    -- NewCell\n",
        "    SELECT\n",
        "        Column1,\n",
        "        Column2,\n",
        "        Column3\n",
        "    INTO\n",
        "        #TempTable\n",
        "    FROM\n",
        "        cte_example\n",
        "    -- DemoWhere: Column2 > 100\n",
        "\n",
        "    ### Step 3: Perform a final SELECT\n",
        "    -- NewCell\n",
        "    SELECT\n",
        "        Column1,\n",
        "        Column2,\n",
        "        SUM(Column3) AS TotalColumn3\n",
        "    FROM\n",
        "        #TempTable\n",
        "    GROUP BY\n",
        "        Column1,\n",
        "        Column2\n",
        "    -- DemoWhere: TotalColumn3 > 1000\n",
        "END\n"
      ]
    }
  ],
  "metadata": {
    "kernelspec": {
      "display_name": "SQL",
      "language": "sql",
      "name": "mssql"
    },
    "language_info": {
      "codemirror_mode": "sql",
      "file_extension": ".sql",
      "mimetype": "text/x-sql",
      "name": "sql"
    }
  },
  "nbformat": 4,
  "nbformat_minor": 5
}
