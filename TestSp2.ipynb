{
  "nbformat_minor": 5,
  "cells": [
    {
      "metadata": {},
      "source": "## Test2 Stored Procedure\n-- This is an example stored procedure that demonstrates\n-- the use of various custom annotations for converting\n-- to a Jupyter notebook.\n\nCREATE PROCEDURE Test2\nAS\nBEGIN\n    ### Step 1: Create a Common Table Expression (CTE)\n    -- NewCell\n    WITH cte_example AS (\n        SELECT\n            Column1,\n            Column2,\n            Column3\n        FROM\n            SomeTable\n        -- DemoWhere: Column1 = 'example'\n    )\n    ### Step 2: Insert data into a temporary table\n    -- NewCell\n    SELECT\n        Column1,\n        Column2,\n        Column3\n    INTO\n        #TempTable\n    FROM\n        cte_example\n    -- DemoWhere: Column2 > 100\n\n    ### Step 3: Perform a final SELECT\n    -- NewCell\n    SELECT\n        Column1,\n        Column2,\n        SUM(Column3) AS TotalColumn3\n    FROM\n        #TempTable\n    GROUP BY\n        Column1,\n        Column2\n    -- DemoWhere: TotalColumn3 > 1000\nEND\n",
      "cell_type": "markdown"
    }
  ],
  "metadata": {
    "kernelspec": {
      "name": "mssql",
      "language": "sql",
      "display_name": "SQL"
    },
    "language_info": {
      "mimetype": "text/x-sql",
      "name": "sql",
      "file_extension": ".sql",
      "codemirror_mode": "sql"
    }
  },
  "nbformat": 4
}
