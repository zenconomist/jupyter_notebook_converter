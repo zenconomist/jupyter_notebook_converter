{
  "nbformat_minor": 5,
  "cells": [
    {
      "metadata": {},
      "source": " ## Test2 Stored Procedure",
      "cell_type": "markdown"
    },
    {
      "metadata": {
        "trusted": true
      },
      "source": "-- -- This is an example stored procedure that demonstrates\n-- -- the use of various custom annotations for converting\n-- -- to a Jupyter notebook.\n-- \n-- CREATE PROCEDURE Test2\n-- AS\n-- BEGIN\n",
      "cell_type": "code",
      "outputs": []
    },
    {
      "metadata": {},
      "source": " ### Step 1: Create a Common Table Expression (CTE)",
      "cell_type": "markdown"
    },
    {
      "metadata": {
        "trusted": true
      },
      "source": "-- \n--     WITH cte_example AS (\n        SELECT\n            Column1,\n            Column2,\n            Column3\n        FROM\n            SomeTable\n         Column1 = 'example'\n",
      "cell_type": "code",
      "outputs": []
    },
    {
      "metadata": {
        "trusted": true
      },
      "source": "--     )\n",
      "cell_type": "code",
      "outputs": []
    },
    {
      "metadata": {},
      "source": " ### Step 2: Insert data into a temporary table",
      "cell_type": "markdown"
    },
    {
      "metadata": {
        "trusted": true
      },
      "source": "    SELECT\n        Column1,\n        Column2,\n        Column3\n    INTO\n        #TempTable\n    FROM\n        cte_example\n     Column2 > 100\n",
      "cell_type": "code",
      "outputs": []
    },
    {
      "metadata": {
        "trusted": true
      },
      "source": "-- \n",
      "cell_type": "code",
      "outputs": []
    },
    {
      "metadata": {},
      "source": " ### Step 3: Perform a final SELECT",
      "cell_type": "markdown"
    },
    {
      "metadata": {
        "trusted": true
      },
      "source": "    SELECT\n        Column1,\n        Column2,\n        SUM(Column3) AS TotalColumn3\n    FROM\n        #TempTable\n    GROUP BY\n        Column1,\n        Column2\n     TotalColumn3 > 1000\n",
      "cell_type": "code",
      "outputs": []
    },
    {
      "metadata": {
        "trusted": true
      },
      "source": "-- END\n",
      "cell_type": "code",
      "outputs": []
    }
  ],
  "metadata": {
    "kernelspec": {
      "name": "mssql",
      "language": "sql",
      "display_name": "SQL"
    },
    "language_info": {
      "mimetype": "text/x-sql",
      "name": "sql",
      "file_extension": ".sql",
      "codemirror_mode": "sql"
    }
  },
  "nbformat": 4
}
