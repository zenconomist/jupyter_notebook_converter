{
  "nbformat_minor": 5,
  "cells": [
    {
      "metadata": {
        "trusted": true
      },
      "source": "-- CREATE PROCEDURE dbo.usp_TestSp1 \n-- AS\n-- \n-- SELECT 1 AS TestSp1\n-- GO\n",
      "cell_type": "code",
      "outputs": []
    }
  ],
  "metadata": {
    "kernelspec": {
      "name": "mssql",
      "language": "sql",
      "display_name": "SQL"
    },
    "language_info": {
      "mimetype": "text/x-sql",
      "name": "sql",
      "file_extension": ".sql",
      "codemirror_mode": "sql"
    }
  },
  "nbformat": 4
}
