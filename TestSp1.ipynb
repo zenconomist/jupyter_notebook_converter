{
  "nbformat_minor": 5,
  "cells": [],
  "metadata": {
    "kernelspec": {
      "name": "mssql",
      "language": "sql",
      "display_name": "SQL"
    },
    "language_info": {
      "mimetype": "text/x-sql",
      "name": "sql",
      "file_extension": ".sql",
      "codemirror_mode": "sql"
    }
  },
  "nbformat": 4
}
