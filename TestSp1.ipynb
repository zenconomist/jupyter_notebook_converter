{
  "cells": [
    {
      "cell_type": "code",
      "execution_count": null,
      "metadata": {
        "trusted": true
      },
      "outputs": [],
      "source": [
        "CREATE PROCEDURE dbo.usp_TestSp1 \n",
        "AS\n",
        "\n",
        "SELECT 1 AS TestSp1\n",
        "GO\n"
      ]
    }
  ],
  "metadata": {
    "kernelspec": {
      "display_name": "SQL",
      "language": "sql",
      "name": "mssql"
    },
    "language_info": {
      "codemirror_mode": "sql",
      "file_extension": ".sql",
      "mimetype": "text/x-sql",
      "name": "sql"
    }
  },
  "nbformat": 4,
  "nbformat_minor": 5
}
