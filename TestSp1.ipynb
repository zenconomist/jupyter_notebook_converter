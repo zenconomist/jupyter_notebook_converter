{
  "nbformat_minor": 5,
  "cells": [
    {
      "metadata": {
        "trusted": true
      },
      "source": "CREATE PROCEDURE dbo.usp_TestSp1 \nAS\n\nSELECT 1 AS TestSp1\nGO\n",
      "cell_type": "code",
      "outputs": []
    }
  ],
  "metadata": {
    "kernelspec": {
      "name": "mssql",
      "language": "sql",
      "display_name": "SQL"
    },
    "language_info": {
      "mimetype": "text/x-sql",
      "name": "sql",
      "file_extension": ".sql",
      "codemirror_mode": "sql"
    }
  },
  "nbformat": 4
}
